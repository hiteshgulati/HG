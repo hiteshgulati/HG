{
 "cells": [
  {
   "cell_type": "code",
   "execution_count": 3,
   "metadata": {},
   "outputs": [],
   "source": [
    "import PyPDF2 as pypdf"
   ]
  },
  {
   "cell_type": "code",
   "execution_count": 4,
   "metadata": {},
   "outputs": [],
   "source": [
    "pdf_file_object = open(\"factsheet-july-2022.pdf\",'rb')\n",
    "pdf_reader = pypdf.PdfFileReader(pdf_file_object)"
   ]
  },
  {
   "cell_type": "code",
   "execution_count": 21,
   "metadata": {},
   "outputs": [
    {
     "name": "stdout",
     "output_type": "stream",
     "text": [
      "0\n",
      "1\n",
      "2\n",
      "4\n",
      "5\n",
      "6\n",
      "9\n",
      "11\n",
      "12\n",
      "13\n",
      "14\n",
      "15\n",
      "16\n",
      "17\n",
      "18\n",
      "19\n",
      "20\n",
      "21\n",
      "22\n",
      "23\n",
      "24\n",
      "25\n",
      "26\n",
      "27\n",
      "28\n",
      "29\n",
      "30\n",
      "31\n"
     ]
    }
   ],
   "source": [
    "for pg_no in range(pdf_reader.numPages):\n",
    "    text = pdf_reader.getPage(pg_no).extract_text()\n",
    "    if \"HOLDINGS\" not in text:\n",
    "        print(pg_no)"
   ]
  },
  {
   "cell_type": "code",
   "execution_count": 17,
   "metadata": {},
   "outputs": [
    {
     "data": {
      "text/plain": [
       "\"Deb t Fund Hybrid Fund Equity Fund\\nL\\nA\\nR\\nG\\nE\\n&\\nM\\nI\\nD\\nC\\nA\\nP\\nF\\nU\\nN\\nDINVE STMENT OBJE CTIVE\\nThe Scheme seek s to gener ate inc ome and long-t erm capit al appr ecia tion by investing \\nthr ough a div ersified portf olio of predominan tly large cap and mid cap equity and equity \\nrela ted securities including equity deriv atives. The Scheme is in the natur e of large and mid \\ncap fund. The Scheme is not providing any assur ed or guar anteed returns\\nWHO SHOULD INVE ST\\nThe fund is suit ed to investors with some prior experience in equity investing or even for \\nfirst time equity in vestors who ar e aw are of the risk associa ted with in vesting in equities, \\nparticularly with regard to mid and small capit aliz ation companies.\\nBENCHMARK^\\nS&P BSE 250 Lar geMidCap Total Return Inde x (TRI)\\nDA TE OF ALL OTMENT\\nOct ober 21, 2008 \\nFUND MANA GER\\nMr. Alok Singh: (w.e.f. February 16, 2017) Around 20 year s of experience, including 16 year s \\nin mutual fund indus try.\\nAVERA GE AUM\\n` 191.78 Cr s.\\nLATEST AUM\\n` 200.85 Crs.\\nMINIMUM APPLICA TION AMOUNT (LUMPSUM)\\nRegular/ Dir ect Plan ` 5,000 and in multiples of ` 1\\nADDITIONAL PUR CHASE AMOUNT\\nRegular/ Dir ect Plan   ` 1,000 and in multiples of ` 1\\nPOR TFOLIO TURNO VER RATIO (As on July 31, 2022)\\n# #\\n0.65 Times (Basis las t rolling 12 mon ths)\\nOTHER P ARAMETER S (As on July 31, 2022)\\nStandar d Devia tion (Annualiz ed): 18.86% (Bank of India Lar ge & Mid Cap E quity Fund)\\n  18.15% (S&P BSE 250 Lar geMidCap (TRI))\\nBet a: 0.98\\nSharpe Ra tio*: 0.30\\nTracking Err or (Annualiz ed): 6.40%\\nAbov e ratios ar e c alcula ted using 6 y ear s his tory of mon thly r eturns\\n*Risk -free r ate assumed t o be 5.25% (MIBOR as on July 29, 2022)\\nNA V (As on July 29, 2022) NA V (`)\\nRegular Plan   Eco Plan\\nGrowth 53.50 Growth  57.72\\nBonus  53.49 Bonus  57.72\\nRegular IDCW  15.97 Regular IDCW 16.16\\nQuart erly IDCW  19.48  Quart erly IDCW  16.28\\nDir ect Plan\\nGrowth 59.51\\nBonus  30.76\\nRegular IDCW  16.32\\nQuart erly IDCW  16.56\\nLOAD S TRUCTURE (F OR ALL PLANS)\\nEntry Load  NIL\\nExit Load  •  For redemption/ swit ch out upt o 10% of the initial units allot ted -\\nwithin 1 year from the date of allotmen t: “NIL ”\\n •  Any redemption/ swit ch out - in excess of the abov e men tioned limit \\nwould be subject to an exit load of 1%, if the units are redeemed/ \\nswit ched out within 1 year from the date of allotmen t of units.\\n •  If the units are redeemed/ swit ched out after 1 year from the date of \\nallotmen t of units : “Nil”EQUITY INDUS TRY ALL OCA TION\\n4All da ta as on July 31, 2022 (Unless indic ated otherwise)Bank of India Lar ge & Mid \\nCap E quity Fund**^^\\n(An open ended equity scheme in vesting in both \\nlarge c ap and mid c ap s tock s)\\n**Please not e tha t the provisions pert aining to creation of segr egated portf olio have \\nbeen incorpor ated in the Scheme Informa tion Documen t (SID) and Key Informa tion \\nMemor andum (KIM) of the aforesaid Scheme w.e.f Ma y 15, 2020. Kindly refer the SID and \\nKIM of the Scheme for further details in this regard.POR TFOLIO DET AILS\\nPortf olio Holdings  % t o Ne t \\nIndus try/ Ra ting Asse tsPortf olio Holdings  % t o Ne t \\nIndus try/ Ra ting Asse ts\\nEQUITY HOLDINGS\\n BANK S 18.31\\n4 State Bank of India 7.00\\n4 ICICI Bank Limit ed 6.03\\n4 HDF C Bank Limit ed 3.93\\n Kotak Mahindr a Bank Limit ed 1.35\\n FER TILIZER S &  6.33\\n AGR OCHEMICALS \\n4 Cor omandel In terna tional  3.07\\n Limit ed \\n Sumit omo Chemic al India  2.18\\n Limit ed \\n PI Indus tries Limit ed 1.08\\n PHARMA CEUTICALS & 6.09\\n BIO TECHNOL OG Y \\n Sun Pharmaceutic al  1.88\\n Indus tries Limit ed \\n Divi's Labor atories Limit ed 1.53\\n Alk em Labor atories Limit ed 1.35\\n Ajan ta Pharma Limit ed 1.34\\n ELE CTRICAL E QUIPMENT 5.86\\n4 ABB India Limit ed 4.05\\n Siemens Limit ed 1.81\\n BEVERA GES 5.73\\n4 Varun Bev erages Limit ed 4.39\\n Unit ed Br ew eries Limit ed 1.33\\n AUTOMOBILE S 5.24\\n Mahindr a & Mahindr a Limit ed 2.73\\n Tata Mot ors Limit ed 2.51\\n REALTY 4.58\\n4 The Phoenix Mills Limit ed 3.18\\n Sobha Limit ed 1.39\\n PETR OLEUM PR ODUCTS 4.25\\n4 Reliance Indus tries Limit ed 4.25\\n FINANCE 4.18\\n4 Aavas Financier s Limit ed 2.85\\n Muthoot Finance Limit ed 1.33\\n CEMENT & CEMENT PR ODUCTS 3.58\\n4 Ultr aTech Cemen t Limit ed 3.58\\n IT - SOFTW ARE 3.49\\n Tata Consult ancy Ser vices  2.79\\n Limit ed \\n Infosys Limit ed 0.69\\n CAPIT AL MARKETS 3.40\\n Comput er Ag e Manag emen t  1.71\\n Ser vices Limit ed \\n Cen tral Deposit ory Ser vices  1.68\\n (India) Limit ed  FERR OUS MET ALS 3.21\\n Tata St eel Limit ed 2.14\\n JSW St eel Limit ed 1.07\\n INDUS TRIAL PR ODUCTS 2.91\\n Astral Limit ed 2.17\\n Timk en India Limit ed 0.74\\n AUTO COMPONENTS 2.63\\n Minda Indus tries Limit ed 2.63\\n OTHER S 16.64\\n Lemon T ree Hot els Limit ed 2.38\\n Trent Limit ed 2.37\\n Honeyw ell Aut oma tion  2.20 \\n India Limit ed \\n Vina ti Or ganics Limit ed 0.98\\n SRF Limit ed 0.60\\n Aarti Indus tries Limit ed 0.43\\n Torr ent Pow er Limit ed 1.91\\n Bharti Airt el Limit ed 0.98\\n Hindalc o Indus tries Limit ed 0.95\\n ITC Limit ed 0.91\\n SBI Lif e Insur ance Compan y  0.90\\n Limit ed \\n NMDC Limit ed 0.81\\n Voltas Limit ed 0.70\\n Apollo Hospit als En terprise  0.52\\n Limit ed \\n Total 96.42\\nMUTU AL FUNDS/EX CHANGE \\nTRADED FUNDS \\nNippon India Mutual Fund 2.55\\nTotal 2.55\\nGO VERNMENT BOND AND \\nTRE ASUR Y BILL\\nTreasury Bill \\n182 Da ys Tbill (MD 15/09/2022)  0.07\\n(SO V) \\nTotal 0.07 \\nCASH & CASH E QUIV ALENT   \\nNet R eceiv ables/P ayables 0.95\\nTREPS / R everse R epo In vestmen ts  0.00\\nTotal 0.95\\nGRAND T OTAL 100.00  \\n4 Indic ates T op 10 Holdings.\\nFor IDCW His tory r efer pg no 19 | F or Scheme P erf ormance r efer pg no 20 t o 27 | F or mon th end T otal Expense Ra tio r efer pg no 29*In vestors should consult their financial advisor if they are not clear about the suit ability of the product.• Long-t erm capit al growth.\\n• Investment in equity and equity-\\nrelated securities including equity \\nderivatives of companies across \\nmark et capit alisa tions.This pr oduct is suit able f or in vestors \\nwho ar e seeking*:\\nModerate\\nLowHigh\\nLow to\\nModerateModerately\\nHigh\\nInvestors understand that their principal will be at \\nvery high risk RISKOMETERVery HighModerate\\nLowHigh\\nLow to\\nModerateModerately\\nHigh\\nBenchmark riskometer is at ver y high risk RISKOMETERVery High\\nMCAP Ca tegoriz ation\\nMcap Category Percen tage\\nLar ge Cap 49.46%\\nMid Cap 37.67%\\nSmall Cap 9.24%\\nGB/TB/R epo/ETF   3.63%\\nGrand Total 100.00%\\n^^For further details kindly refer NOTICE-CUM-ADDENDUM NO. 11/2022-23 \\nhtt ps://www.boimf.in/docs/default-source/reports/addenda-notice/change-in-name-\\nof-mutual- fund-and-other -ma tters-june-15-2022.pdf?s fvrsn=61a093dd_4Risk -o-met er is based on the \\nscheme portf olio as on \\nJuly 31, 2022Benchmark Risk -o-met er \\nas on July 31, 2022^\\n2.63%2.91%3.21%3.40%3.49%3.58%4.18%4.25%4.58%5.24%5.73%5.86%6.09%6.33%16.64%18.31%\\nAut o Componen tsIndus trial Pr oductsFerr ous Met alsCapit al Mark etsIT - Softw areCemen t & Cemen t Pr oductsFinancePetr oleum Pr oductsRealtyAut omobilesBev eragesElectric al E quipmen tPharmaceutic als & Biot echnologyFertiliz ers & Agr ochemic alsOther sBank s\""
      ]
     },
     "execution_count": 17,
     "metadata": {},
     "output_type": "execute_result"
    }
   ],
   "source": [
    "text"
   ]
  },
  {
   "cell_type": "code",
   "execution_count": null,
   "metadata": {},
   "outputs": [],
   "source": []
  }
 ],
 "metadata": {
  "kernelspec": {
   "display_name": "Python 3.10.2 64-bit",
   "language": "python",
   "name": "python3"
  },
  "language_info": {
   "codemirror_mode": {
    "name": "ipython",
    "version": 3
   },
   "file_extension": ".py",
   "mimetype": "text/x-python",
   "name": "python",
   "nbconvert_exporter": "python",
   "pygments_lexer": "ipython3",
   "version": "3.10.2"
  },
  "orig_nbformat": 4,
  "vscode": {
   "interpreter": {
    "hash": "aee8b7b246df8f9039afb4144a1f6fd8d2ca17a180786b69acc140d282b71a49"
   }
  }
 },
 "nbformat": 4,
 "nbformat_minor": 2
}
