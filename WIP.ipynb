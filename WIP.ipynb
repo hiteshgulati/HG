{
 "cells": [
  {
   "cell_type": "code",
   "execution_count": 118,
   "metadata": {},
   "outputs": [],
   "source": [
    "import numpy as np\n",
    "import matplotlib.pyplot as plt\n",
    "import numpy_financial as npf\n",
    "import pandas as pd\n",
    "from datetime import datetime as dt\n",
    "import warnings\n",
    "warnings.filterwarnings('ignore')\n",
    "import math\n",
    "from dateutil.relativedelta import relativedelta\n",
    "import os\n",
    "from scipy.stats import norm"
   ]
  },
  {
   "cell_type": "code",
   "execution_count": 119,
   "metadata": {},
   "outputs": [],
   "source": [
    "data_folder_name = 'Data'\n",
    "instruments_folder_name = \"Instruments\""
   ]
  },
  {
   "cell_type": "code",
   "execution_count": 120,
   "metadata": {},
   "outputs": [],
   "source": [
    "def return_conversion (r,n,this_period = 1):\n",
    "    return (1+r)**(n/this_period) - 1"
   ]
  },
  {
   "cell_type": "code",
   "execution_count": 121,
   "metadata": {},
   "outputs": [
    {
     "data": {
      "text/plain": [
       "'₹ -78,362'"
      ]
     },
     "execution_count": 121,
     "metadata": {},
     "output_type": "execute_result"
    }
   ],
   "source": [
    "def to_currency (value, multiplier=100, add_currency_symbol=True, currency_symbol = '₹',rounding=0):\n",
    "    negative_sign = \"\"\n",
    "    if value < 0:\n",
    "        negative_sign = \"-\"\n",
    "        value = abs(value)\n",
    "    value = round(value,rounding)\n",
    "    decimal_value = round(value%1,rounding)\n",
    "    value = int(round((value-decimal_value),0))\n",
    "    if decimal_value == 0:\n",
    "        currency_string = \"\" \n",
    "    else:\n",
    "        currency_string = \".\" + str(decimal_value)[2:]\n",
    "    base = 1_000\n",
    "    set = value%base\n",
    "    currency_string = str(int(round(set,0))) + currency_string\n",
    "    if (len(str(set)) < len(str(value))) & (len(str(set)) < len(str(base))-1):\n",
    "        zeros = \"\".join(['0' for _ in range(len(str(base))-1-len(str(set)))])\n",
    "        currency_string = zeros + currency_string\n",
    "        \n",
    "    converted_value = set\n",
    "    if set == value:\n",
    "        if add_currency_symbol:\n",
    "            return currency_symbol + \" \" + negative_sign + currency_string\n",
    "        else: \n",
    "            return negative_sign + currency_string\n",
    "    else:\n",
    "        while converted_value != value:\n",
    "            base = base * multiplier\n",
    "            set = int(round((value%base - converted_value)/base * multiplier,0))\n",
    "            currency_string = str(int(set)) + \",\" + currency_string\n",
    "            if (len(str(int(round(set*base/multiplier,0)))) < len(str(value))) & (len(str(set)) < len(str(multiplier))-1):\n",
    "                zeros = \"\".join(['0' for _ in range(len(str(multiplier))-1-len(str(set)))])\n",
    "                currency_string = zeros + currency_string\n",
    "            converted_value = int(round(converted_value + (set*base/multiplier),0))\n",
    "\n",
    "    if add_currency_symbol:\n",
    "        return currency_symbol + \" \" + negative_sign + currency_string\n",
    "    else: \n",
    "        return negative_sign + currency_string\n",
    "\n",
    "to_currency(-78361.78264643789, multiplier=100,rounding=0, add_currency_symbol=True)"
   ]
  },
  {
   "cell_type": "code",
   "execution_count": 122,
   "metadata": {},
   "outputs": [],
   "source": [
    "class Instrument:\n",
    "    def __init__(self,name,type,ticker=None,r_annual=0,\n",
    "        entry_transaction_cost=0, exit_transaction_cost=0):\n",
    "        self.name = name\n",
    "        self.ticker = ticker\n",
    "        self.type = type\n",
    "        self.historical = pd.DataFrame()\n",
    "        self.r_annual = r_annual\n",
    "        self.entry_transaction_cost = entry_transaction_cost\n",
    "        self.exit_transaction_cost = exit_transaction_cost\n",
    "    \n",
    "    def __repr__ (self):\n",
    "        return f'''{self.name}'''\n",
    "    def __str__ (self):\n",
    "        return self.__repr__()\n",
    "    \n",
    "    def fetch_historical(self,folder_path,file_name):\n",
    "        self.historical = pd.read_csv(os.path.join(folder_path, file_name))\n",
    "        self.historical['Date'] = pd.to_datetime(self.historical['Date'])\n",
    "        self.historical.sort_values(by='Date', inplace=True)\n",
    "        self.historical['change'] = (self.historical['Close'] \\\n",
    "            - self.historical['Close'].shift(periods=1)) \\\n",
    "            / self.historical['Close'].shift(periods=1)\n",
    "        # self.historical['std'] = self.historical['change'].rolling(250).std()\n",
    "    \n",
    "    def get_value(self, date):\n",
    "        return self.historical[self.historical['Date']<=date].iloc[-1]['Close']\n",
    "    \n",
    "    \n",
    "    def get_fall_prob (self, fall,date, lookback_years = None):\n",
    "        if not lookback_years:\n",
    "            lookback_years = 10\n",
    "        dist_df = self.historical[self.historical['Date']<=date]\\\n",
    "            .iloc[-(lookback_years*250):]\n",
    "        dist_prob = dist_df[dist_df['change']<=fall].shape[0] / dist_df.shape[0]\n",
    "        norm_prob = norm(dist_df['change'].mean(), dist_df['change'].std()).cdf(fall)\n",
    "        return dist_prob if dist_prob > norm_prob else norm_prob\n",
    "    \n",
    "    def get_return (self,date, lookback_years = None):\n",
    "        if self.type == 'equity':\n",
    "            if not lookback_years:\n",
    "                lookback_years = 10\n",
    "            return self.historical[self.historical['Date']<=date]\\\n",
    "                .iloc[-(lookback_years*250):]['change'].mean()\n",
    "        else:\n",
    "            return return_conversion(self.r_annual,1,365)\n",
    "\n",
    "i = Instrument('N','N5','equity')\n",
    "i.fetch_historical(os.path.join(data_folder_name,instruments_folder_name),'NIFTY50_data.csv')"
   ]
  },
  {
   "cell_type": "code",
   "execution_count": 123,
   "metadata": {},
   "outputs": [],
   "source": [
    "class Position:\n",
    "    def __init__(self, instrument, date,investment_amount):\n",
    "        self.instrument = instrument\n",
    "        self.entry_date = date\n",
    "        self.position_name = str(self.instrument) + \"_on_\" + self.entry_date.strftime('%d%b%y')\n",
    "        self.pnl = 0\n",
    "        self.current_value = investment_amount-instrument.entry_transaction_cost\n",
    "        if self.instrument.type == 'equity':\n",
    "            self.number_of_units = self.current_value\\\n",
    "                    /self.instrument.get_value(date)\n",
    "        else: \n",
    "            self.number_of_units = 1\n",
    "        self.entry_value = self.current_value\n",
    "        self.exit_value = self.current_value - instrument.exit_transaction_cost\n",
    "        self.tax_liability = 0\n",
    "        self.last_update = date\n",
    "    \n",
    "    def __repr__ (self):\n",
    "        return f'''{self.position_name} {to_currency(self.current_value)} | exit: {to_currency(self.exit_value)}, entry: {to_currency(self.entry_value)} | update:{self.last_update.strftime('%d%b%y')}'''\n",
    "    def __str__ (self):\n",
    "        return self.__repr__()\n",
    "    \n",
    "    def update_current_value (self,date):\n",
    "        if self.instrument.type == 'equity':\n",
    "            self.current_value = self.instrument.get_value(date) * self.number_of_units\n",
    "        if self.instrument.type == 'cash':\n",
    "            pass\n",
    "        if self.instrument.type == 'debt':\n",
    "            self.current_value = self.entry_value * (1+return_conversion(self.instrument.r_annual,1,365))**(date-self.entry_date).days\n",
    "            \n",
    "    \n",
    "    def update_params(self,date):\n",
    "        self.update_current_value(date)\n",
    "        self.pnl = self.current_value - self.entry_value - self.instrument.exit_transaction_cost\n",
    "    \n",
    "        #Computing tax Component\n",
    "        holding_period_years = relativedelta(date,self.entry_date).years\n",
    "        if self.pnl > 0:\n",
    "            if self.instrument.type == 'equity':\n",
    "                if holding_period_years >=1: #Long Term\n",
    "                    self.tax_liability = self.pnl * .1\n",
    "                else: #Short Term\n",
    "                    self.tax_liability = self.pnl * .15\n",
    "            elif self.instrument.type == 'debt':\n",
    "                if holding_period_years >=3: #long Term\n",
    "                    self.tax_liability = self.pnl * .2\n",
    "                else: #short term\n",
    "                    self.tax_liability = self.pnl * .3\n",
    "        else:\n",
    "            self.tax_liability = 0\n",
    "        self.exit_value = self.current_value - self.tax_liability - self.instrument.exit_transaction_cost\n",
    "        self.last_update = date\n",
    "\n",
    "    @staticmethod\n",
    "    def future_exit_value (instrument, entry_date, exit_date, investment_amount):\n",
    "        r = instrument.get_return(entry_date)\n",
    "        n_days = (exit_date-entry_date).days\n",
    "        holding_period_years = n_days/365\n",
    "        fv = (investment_amount-instrument.entry_transaction_cost) * (1+r)**n_days - instrument.exit_transaction_cost\n",
    "        pnl = fv-investment_amount\n",
    "        tax_liability = 0\n",
    "        if pnl > 0:\n",
    "            if instrument.type == 'equity':\n",
    "                if holding_period_years >=1: #Long Term\n",
    "                    tax_liability = pnl * .1\n",
    "                else: #Short Term\n",
    "                    tax_liability = pnl * .15\n",
    "            elif instrument.type == 'debt':\n",
    "                if holding_period_years >=3: #long Term\n",
    "                    tax_liability = pnl * .2\n",
    "                else: #short term\n",
    "                    tax_liability = pnl * .3\n",
    "\n",
    "        future_exit_value = fv - tax_liability\n",
    "\n",
    "        return future_exit_value\n",
    "\n",
    "            \n",
    "        \n",
    "\n",
    "\n"
   ]
  },
  {
   "cell_type": "code",
   "execution_count": 124,
   "metadata": {},
   "outputs": [],
   "source": [
    "class Goal:\n",
    "    def __init__ (self,name, maturity_date,inception_date,\n",
    "        confidence,maturity_value,min_maturity_value,pmt=0):\n",
    "        self.name = name\n",
    "        self.maturity_date = maturity_date\n",
    "        self.inception_date = inception_date\n",
    "        self.pmt = pmt\n",
    "        self.confidence = confidence\n",
    "        self.payday = 1\n",
    "        self.maturity_value = maturity_value\n",
    "        self.min_maturity_value = min_maturity_value\n",
    "        self.cashflows = pd.DataFrame(index=pd.date_range(start=inception_date, end=maturity_date))\\\n",
    "            .reset_index().rename(columns={'index':'date'})\n",
    "        self.cashflows['downpayment'] = 0\n",
    "        self.cashflows['spend'] = 0\n",
    "        self.cashflows['emi'] = 0\n",
    "        self.cashflows.loc[self.cashflows['date']==inception_date,'downpayment'] = pmt\n",
    "        self.cashflows.loc[self.cashflows['date']==maturity_date,'spend'] = maturity_value\n",
    "        self.emi = self.calculate_emi(rf=return_conversion(.06,1,250))\n",
    "        self.postions = []\n",
    "\n",
    "    def __repr__ (self):\n",
    "        return f'''{self.name} | {to_currency(self.maturity_value)} on {self.maturity_date.strftime('%d %b %Y')} | EMI: {to_currency(self.emi)}, Downpayment: {to_currency(self.pmt)}'''\n",
    "    def __str__ (self):\n",
    "        return self.__repr__()\n",
    "        \n",
    "    def calculate_emi(self,rf):\n",
    "        tolerance = 1\n",
    "        emi_guess = npf.pmt(rate = rf, nper=(self.maturity_date-self.inception_date).days/30, \n",
    "                        fv=-1*self.maturity_value, pv=self.pmt, when='begin')\n",
    "        surplus = 0\n",
    "\n",
    "        while not((surplus>0)&(surplus<tolerance)):\n",
    "            emi_guess = emi_guess - surplus/((self.maturity_date-self.inception_date).days/30)\n",
    "            self.cashflows.loc[self.cashflows['date'].dt.day==self.payday,'emi'] = emi_guess\n",
    "            self.cashflows['cashflow'] = self.cashflows['downpayment'] + self.cashflows['emi'] - self.cashflows['spend']\n",
    "            surplus = npf.npv(rf,self.cashflows['cashflow'])\n",
    "            \n",
    "        self.cashflows.loc[self.cashflows['date'].dt.day==self.payday,'emi'] = emi_guess\n",
    "        self.cashflows['cashflow'] = self.cashflows['downpayment'] + self.cashflows['emi'] - self.cashflows['spend']\n",
    "        return emi_guess\n",
    "\n",
    "    def update_emi(self,date,updated_emi):\n",
    "        self.cashflows.loc[(self.cashflows['date'].dt.day==self.payday)&(self.cashflows['date']>=date),'emi'] = updated_emi\n",
    "        self.emi = updated_emi\n",
    "    \n",
    "    def collect_cash(self,date):\n",
    "        self.cashflows.loc[self.cashflows['date']==date,'cash']\n",
    "\n",
    "        pass\n"
   ]
  },
  {
   "cell_type": "code",
   "execution_count": 130,
   "metadata": {},
   "outputs": [
    {
     "name": "stdout",
     "output_type": "stream",
     "text": [
      "Nifty Cash rf\n",
      "01 Feb 15\n",
      "\tNifty_on_01Feb15 ₹ 9,980 | exit: ₹ 9,960, entry: ₹ 9,980 | update:01Feb15\n",
      "\trf_on_01Feb15 ₹ 9,990 | exit: ₹ 9,970, entry: ₹ 9,990 | update:01Feb15\n",
      "\tCash_on_01Feb15 ₹ 10,000 | exit: ₹ 10,000, entry: ₹ 10,000 | update:01Feb15\n",
      "03 Jun 15\n",
      "\tNifty_on_01Feb15 ₹ 9,217 | exit: ₹ 9,197, entry: ₹ 9,980 | update:03Jun15\n",
      "\trf_on_01Feb15 ₹ 10,186 | exit: ₹ 10,114, entry: ₹ 9,990 | update:03Jun15\n",
      "\tCash_on_01Feb15 ₹ 10,000 | exit: ₹ 10,000, entry: ₹ 10,000 | update:03Jun15\n",
      "04 Feb 17\n",
      "\tNifty_on_01Feb15 ₹ 9,903 | exit: ₹ 9,883, entry: ₹ 9,980 | update:04Feb17\n",
      "\trf_on_01Feb15 ₹ 11,232 | exit: ₹ 10,845, entry: ₹ 9,990 | update:04Feb17\n",
      "\tCash_on_01Feb15 ₹ 10,000 | exit: ₹ 10,000, entry: ₹ 10,000 | update:04Feb17\n",
      "07 Feb 22\n",
      "\tNifty_on_01Feb15 ₹ 19,502 | exit: ₹ 18,532, entry: ₹ 9,980 | update:07Feb22\n",
      "\trf_on_01Feb15 ₹ 15,040 | exit: ₹ 14,014, entry: ₹ 9,990 | update:07Feb22\n",
      "\tCash_on_01Feb15 ₹ 10,000 | exit: ₹ 10,000, entry: ₹ 10,000 | update:07Feb22\n",
      "₹ 10,848\n"
     ]
    }
   ],
   "source": [
    "date_lists = [dt(2015,2,1),dt(2015,6,3),dt(2017,2,4),dt(2022,2,7)]\n",
    "\n",
    "nifty = Instrument('Nifty',type='equity',ticker='N50',entry_transaction_cost=20, exit_transaction_cost=20)\n",
    "nifty.fetch_historical(folder_path=os.path.join(data_folder_name, instruments_folder_name),file_name='NIFTY50_Data.csv')\n",
    "cash = Instrument('Cash',type='cash',entry_transaction_cost=0,exit_transaction_cost=0)\n",
    "rf = Instrument('rf',type='debt',r_annual=.06, entry_transaction_cost=10,exit_transaction_cost=20)\n",
    "print(nifty,cash,rf)\n",
    "nifty_p = Position(instrument=nifty,date=date_lists[0],investment_amount=10_000)\n",
    "rf_p = Position(instrument=rf,date=date_lists[0],investment_amount=10_000)\n",
    "cash_p = Position(instrument=cash,date=date_lists[0],investment_amount=10_000)\n",
    "print(f'''{date_lists[0].strftime(\"%d %b %y\")}\\n\\t{nifty_p}\\n\\t{rf_p}\\n\\t{cash_p}''')\n",
    "\n",
    "for date in date_lists[1:]:\n",
    "    nifty_p.update_params(date=date)\n",
    "    rf_p.update_params(date=date)\n",
    "    cash_p.update_params(date=date)\n",
    "    print(f'''{date.strftime(\"%d %b %y\")}\\n\\t{nifty_p}\\n\\t{rf_p}\\n\\t{cash_p}''')\n",
    "\n",
    "print(to_currency(Position.future_exit_value(instrument=rf,investment_amount=10_000,\n",
    "    entry_date=date_lists[0],exit_date=date_lists[2])))\n"
   ]
  },
  {
   "cell_type": "code",
   "execution_count": 117,
   "metadata": {},
   "outputs": [
    {
     "data": {
      "text/plain": [
       "10000.0"
      ]
     },
     "execution_count": 117,
     "metadata": {},
     "output_type": "execute_result"
    }
   ],
   "source": []
  },
  {
   "cell_type": "code",
   "execution_count": 83,
   "metadata": {},
   "outputs": [
    {
     "data": {
      "text/plain": [
       "0.0"
      ]
     },
     "execution_count": 83,
     "metadata": {},
     "output_type": "execute_result"
    }
   ],
   "source": []
  },
  {
   "cell_type": "code",
   "execution_count": 95,
   "metadata": {},
   "outputs": [
    {
     "data": {
      "text/plain": [
       "0.0005329061532449811"
      ]
     },
     "execution_count": 95,
     "metadata": {},
     "output_type": "execute_result"
    }
   ],
   "source": [
    "lookback_years = 10\n",
    "nifty.historical[nifty.historical['Date']<=dt(2022,3,1)].iloc[-(lookback_years*250):]['change'].mean()"
   ]
  },
  {
   "cell_type": "code",
   "execution_count": null,
   "metadata": {},
   "outputs": [],
   "source": [
    "self.historical[self.historical['Date']<=date]\\\n",
    "                .iloc[-(lookback_years*250):]['change'].mean()"
   ]
  },
  {
   "cell_type": "code",
   "execution_count": null,
   "metadata": {},
   "outputs": [],
   "source": []
  },
  {
   "cell_type": "code",
   "execution_count": 14,
   "metadata": {},
   "outputs": [
    {
     "data": {
      "text/plain": [
       "N_on_04Jan2022 @ 9301.588127097346, exit @ 9383.349908032744, bought @ 9980"
      ]
     },
     "execution_count": 14,
     "metadata": {},
     "output_type": "execute_result"
    }
   ],
   "source": []
  },
  {
   "cell_type": "code",
   "execution_count": null,
   "metadata": {},
   "outputs": [],
   "source": [
    "\n",
    "\n",
    "instruments = [{'name':'NIFTY 50','filename':'NIFTY50_Data.csv'},\n",
    "                {'name':'NIFTY High Beta','filename':'NIFTY HIGH BETA 50_Data.csv'},\n",
    "                {'name':'NIFTY 500','filename':'NIFTY 500_Data.csv'},\n",
    "                {'name':'NIFTY BANK','filename':'NIFTY BANK_Data.csv'}]\n",
    "\n",
    "for instrument in instruments:\n",
    "    instrument['df'] = pd.read_csv(os.path.join(data_folder_name, instruments_folder_name, instrument['filename']))\n",
    "    instrument['df']['Date'] = pd.to_datetime(instrument['df']['Date'])\n",
    "    instrument['df'].sort_values(by='Date', inplace=True)\n",
    "    instrument['df']['change'] = (instrument['df']['Close'] - instrument['df']['Close'].shift(periods=1)) / instrument['df']['Close'].shift(periods=1)\n",
    "    print(f'''{instrument['name']}\\t mu = {round(instrument['df']['change'].mean()*100,2)}%\\t sigma = {round(instrument['df']['change'].std()*100,2)}%''')\n",
    "\n",
    "np.random.seed(43)"
   ]
  }
 ],
 "metadata": {
  "interpreter": {
   "hash": "73601e6817793ffeb38c6f308fcb2845e43bc38d38ec318ab5bd060d656de52c"
  },
  "kernelspec": {
   "display_name": "Python 3.9.12 ('base')",
   "language": "python",
   "name": "python3"
  },
  "language_info": {
   "codemirror_mode": {
    "name": "ipython",
    "version": 3
   },
   "file_extension": ".py",
   "mimetype": "text/x-python",
   "name": "python",
   "nbconvert_exporter": "python",
   "pygments_lexer": "ipython3",
   "version": "3.9.12"
  },
  "orig_nbformat": 4
 },
 "nbformat": 4,
 "nbformat_minor": 2
}
