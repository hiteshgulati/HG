{
 "cells": [
  {
   "cell_type": "code",
   "execution_count": 54,
   "metadata": {},
   "outputs": [],
   "source": [
    "import numpy as np\n",
    "import matplotlib.pyplot as plt\n",
    "import numpy_financial as npf\n",
    "import pandas as pd\n",
    "from datetime import datetime as dt\n",
    "import warnings\n",
    "warnings.filterwarnings('ignore')\n",
    "import math\n",
    "from dateutil.relativedelta import relativedelta\n",
    "import os\n",
    "from scipy.stats import norm"
   ]
  },
  {
   "cell_type": "code",
   "execution_count": null,
   "metadata": {},
   "outputs": [],
   "source": [
    "data_folder_name = 'Data'\n",
    "instruments_folder_name = \"Instruments\""
   ]
  },
  {
   "cell_type": "code",
   "execution_count": 153,
   "metadata": {},
   "outputs": [],
   "source": [
    "def return_conversion (r,n,this_period = 1):\n",
    "    return (1+r)**(n/this_period) - 1"
   ]
  },
  {
   "cell_type": "code",
   "execution_count": 2,
   "metadata": {},
   "outputs": [
    {
     "data": {
      "text/plain": [
       "'₹ -78,362'"
      ]
     },
     "execution_count": 2,
     "metadata": {},
     "output_type": "execute_result"
    }
   ],
   "source": [
    "def to_currency (value, multiplier=100, add_currency_symbol=True, currency_symbol = '₹',rounding=0):\n",
    "    negative_sign = \"\"\n",
    "    if value < 0:\n",
    "        negative_sign = \"-\"\n",
    "        value = abs(value)\n",
    "    value = round(value,rounding)\n",
    "    decimal_value = round(value%1,rounding)\n",
    "    value = int(round((value-decimal_value),0))\n",
    "    if decimal_value == 0:\n",
    "        currency_string = \"\" \n",
    "    else:\n",
    "        currency_string = \".\" + str(decimal_value)[2:]\n",
    "    base = 1_000\n",
    "    set = value%base\n",
    "    currency_string = str(int(round(set,0))) + currency_string\n",
    "    if (len(str(set)) < len(str(value))) & (len(str(set)) < len(str(base))-1):\n",
    "        zeros = \"\".join(['0' for _ in range(len(str(base))-1-len(str(set)))])\n",
    "        currency_string = zeros + currency_string\n",
    "        \n",
    "    converted_value = set\n",
    "    if set == value:\n",
    "        if add_currency_symbol:\n",
    "            return currency_symbol + \" \" + negative_sign + currency_string\n",
    "        else: \n",
    "            return negative_sign + currency_string\n",
    "    else:\n",
    "        while converted_value != value:\n",
    "            base = base * multiplier\n",
    "            set = int(round((value%base - converted_value)/base * multiplier,0))\n",
    "            currency_string = str(int(set)) + \",\" + currency_string\n",
    "            if (len(str(int(round(set*base/multiplier,0)))) < len(str(value))) & (len(str(set)) < len(str(multiplier))-1):\n",
    "                zeros = \"\".join(['0' for _ in range(len(str(multiplier))-1-len(str(set)))])\n",
    "                currency_string = zeros + currency_string\n",
    "            converted_value = int(round(converted_value + (set*base/multiplier),0))\n",
    "\n",
    "    if add_currency_symbol:\n",
    "        return currency_symbol + \" \" + negative_sign + currency_string\n",
    "    else: \n",
    "        return negative_sign + currency_string\n",
    "\n",
    "to_currency(-78361.78264643789, multiplier=100,rounding=0, add_currency_symbol=True)"
   ]
  },
  {
   "cell_type": "code",
   "execution_count": 3,
   "metadata": {},
   "outputs": [],
   "source": [
    "class Position:\n",
    "    def __init__(self, instrument, date):\n",
    "        self.instrument = instrument\n",
    "        self.entry_date = date\n",
    "        self.pnl = 0\n",
    "        self.current_value = self.instrument.get_value(date)\n",
    "        self.entry_value = self.current_value\n",
    "        self.exit_value = self.current_value\n",
    "        self.tax_liability = 0\n",
    "    \n",
    "    def __repr__ (self):\n",
    "        return f'''{self.instrument} @ {self.current_value}, exit @ {self.exit_value}, bought @ {self.entry_value}'''\n",
    "    def __str__ (self):\n",
    "        return f'''{self.instrument} @ {self.current_value}, exit @ {self.exit_value}, bought @ {self.entry_value}'''\n",
    "    \n",
    "    \n",
    "    def update_params(self,date):\n",
    "        self.current_value = self.instrument.get_value(date)\n",
    "        self.pnl = self.current_value - self.entry_value\n",
    "        \n",
    "        #Computing tax Component\n",
    "        holding_period_years = relativedelta(date,self.entry_date).years\n",
    "        if instrument.type == 'equity':\n",
    "            if holding_period_years >=1: #Long Term\n",
    "                self.tax_liability = self.pnl * .1\n",
    "            else: #Short Term\n",
    "                self.tax_liability = self.pnl * .15\n",
    "        elif instrument.type == 'debt':\n",
    "            if holding_period_years >=3: #long Term\n",
    "                self.tax_liability = self.pnl * .2\n",
    "            else: #short term\n",
    "                self.tax_liability = self.pnl * .3\n",
    "        self.exit_value = self.current_value - self.tax_liability\n",
    "\n",
    "\n",
    "            \n",
    "        \n",
    "\n",
    "\n"
   ]
  },
  {
   "cell_type": "code",
   "execution_count": 96,
   "metadata": {},
   "outputs": [],
   "source": [
    "class Instrument:\n",
    "    def __init__(self,name,ticker,type):\n",
    "        self.name = name\n",
    "        self.ticker = ticker\n",
    "        self.type = type\n",
    "        self.historical = pd.DataFrame()\n",
    "    \n",
    "    def __repr__ (self):\n",
    "        return f'''{self.name}'''\n",
    "    def __str__ (self):\n",
    "        return f'''{self.name}'''\n",
    "    \n",
    "    def fetch_historical(self,folder_path,file_name):\n",
    "        self.historical = pd.read_csv(os.path.join(folder_path, file_name))\n",
    "        self.historical['Date'] = pd.to_datetime(self.historical['Date'])\n",
    "        self.historical.sort_values(by='Date', inplace=True)\n",
    "        self.historical['change'] = (self.historical['Close'] \\\n",
    "            - self.historical['Close'].shift(periods=1)) \\\n",
    "            / self.historical['Close'].shift(periods=1)\n",
    "        # self.historical['std'] = self.historical['change'].rolling(250).std()\n",
    "    \n",
    "    def get_value(self, date):\n",
    "        return self.historical[self.historical['Date']<=date].iloc[-1]['Close']\n",
    "    \n",
    "    def get_fall_prob (self, fall,date, lookback_years = None):\n",
    "        if not lookback_years:\n",
    "            lookback_years = 10\n",
    "        dist_df = self.historical[self.historical['Date']<=date]\\\n",
    "            .iloc[-(lookback_years*250):]\n",
    "        dist_prob = dist_df[dist_df['change']<=fall].shape[0] / dist_df.shape[0]\n",
    "        norm_prob = norm(dist_df['change'].mean(), dist_df['change'].std()).cdf(fall)\n",
    "        return dist_prob if dist_prob > norm_prob else norm_prob\n",
    "    \n",
    "    def get_mean_return (self,date, lookback_years = None):\n",
    "        if not lookback_years:\n",
    "            lookback_years = 10\n",
    "        return self.historical[self.historical['Date']<=date]\\\n",
    "            .iloc[-(lookback_years*250):]['change'].mean()\n",
    "\n",
    "i = Instrument('N','N5','equity')\n",
    "i.fetch_historical(os.path.join(data_folder_name,instruments_folder_name),'NIFTY50_data.csv')"
   ]
  },
  {
   "cell_type": "code",
   "execution_count": 165,
   "metadata": {},
   "outputs": [],
   "source": [
    "class Goal:\n",
    "    def __init__ (self,name, maturity_date,inception_date,\n",
    "        confidence,maturity_value,min_maturity_value,pmt=0):\n",
    "        self.name = name\n",
    "        self.maturity_date = maturity_date\n",
    "        self.inception_date = inception_date\n",
    "        self.pmt = pmt\n",
    "        self.confidence = confidence\n",
    "        self.maturity_value = maturity_value\n",
    "        self.min_maturity_value = min_maturity_value\n",
    "        self.cashflows = pd.DataFrame(index=pd.date_range(start=inception_date, end=maturity_date))\\\n",
    "            .reset_index().rename(columns={'index':'date'})\n",
    "        self.cashflows['downpayment'] = 0\n",
    "        self.cashflows['spend'] = 0\n",
    "        self.cashflows['emi'] = 0\n",
    "        self.cashflows.loc[self.cashflows['date']==inception_date,'downpayment'] = pmt\n",
    "        self.cashflows.loc[self.cashflows['date']==maturity_date,'spend'] = maturity_value\n",
    "        self.emi = self.calculate_emi(rf=return_conversion(.06,1,250))\n",
    "\n",
    "    def __repr__ (self):\n",
    "        return f'''{self.name} | {to_currency(self.maturity_value)} on {self.maturity_date.strftime('%d %b %Y')} | EMI: {to_currency(self.emi)}, Downpayment: {to_currency(self.pmt)}'''\n",
    "    def __str__ (self):\n",
    "        return self.__repr__()\n",
    "        \n",
    "    def calculate_emi(self,rf,payment_day=1):\n",
    "        tolerance = 1\n",
    "        emi_guess = npf.pmt(rate = rf, nper=(self.maturity_date-self.inception_date).days/30, \n",
    "                        fv=-1*self.maturity_value, pv=self.pmt, when='begin')\n",
    "        surplus = 0\n",
    "\n",
    "        while not((surplus>0)&(surplus<tolerance)):\n",
    "            emi_guess = emi_guess - surplus/((self.maturity_date-self.inception_date).days/30)\n",
    "            self.cashflows.loc[self.cashflows['date'].dt.day==payment_day,'emi'] = emi_guess\n",
    "            self.cashflows['cashflow'] = self.cashflows['downpayment'] + self.cashflows['emi'] - self.cashflows['spend']\n",
    "            surplus = npf.npv(rf,self.cashflows['cashflow'])\n",
    "            \n",
    "        self.cashflows.loc[self.cashflows['date'].dt.day==payment_day,'emi'] = emi_guess\n",
    "        self.cashflows['cashflow'] = self.cashflows['downpayment'] + self.cashflows['emi'] - self.cashflows['spend']\n",
    "        return emi_guess\n"
   ]
  },
  {
   "cell_type": "code",
   "execution_count": 167,
   "metadata": {},
   "outputs": [
    {
     "name": "stdout",
     "output_type": "stream",
     "text": [
      "Eu | ₹ 2,00,000 on 01 Aug 2023 | EMI: ₹ 9,812, Downpayment: ₹ 1,000\n"
     ]
    }
   ],
   "source": [
    "e = Goal(name='Eu',maturity_date=dt(2023,8,1),inception_date=dt(2022,2,1),pmt=1_000,confidence=0,maturity_value=2_00_000, min_maturity_value=1_60_000)\n",
    "print(e)"
   ]
  },
  {
   "cell_type": "code",
   "execution_count": null,
   "metadata": {},
   "outputs": [],
   "source": []
  },
  {
   "cell_type": "code",
   "execution_count": null,
   "metadata": {},
   "outputs": [],
   "source": [
    "\n",
    "\n",
    "instruments = [{'name':'NIFTY 50','filename':'NIFTY50_Data.csv'},\n",
    "                {'name':'NIFTY High Beta','filename':'NIFTY HIGH BETA 50_Data.csv'},\n",
    "                {'name':'NIFTY 500','filename':'NIFTY 500_Data.csv'},\n",
    "                {'name':'NIFTY BANK','filename':'NIFTY BANK_Data.csv'}]\n",
    "\n",
    "for instrument in instruments:\n",
    "    instrument['df'] = pd.read_csv(os.path.join(data_folder_name, instruments_folder_name, instrument['filename']))\n",
    "    instrument['df']['Date'] = pd.to_datetime(instrument['df']['Date'])\n",
    "    instrument['df'].sort_values(by='Date', inplace=True)\n",
    "    instrument['df']['change'] = (instrument['df']['Close'] - instrument['df']['Close'].shift(periods=1)) / instrument['df']['Close'].shift(periods=1)\n",
    "    print(f'''{instrument['name']}\\t mu = {round(instrument['df']['change'].mean()*100,2)}%\\t sigma = {round(instrument['df']['change'].std()*100,2)}%''')\n",
    "\n",
    "np.random.seed(43)"
   ]
  }
 ],
 "metadata": {
  "interpreter": {
   "hash": "73601e6817793ffeb38c6f308fcb2845e43bc38d38ec318ab5bd060d656de52c"
  },
  "kernelspec": {
   "display_name": "Python 3.9.12 ('base')",
   "language": "python",
   "name": "python3"
  },
  "language_info": {
   "codemirror_mode": {
    "name": "ipython",
    "version": 3
   },
   "file_extension": ".py",
   "mimetype": "text/x-python",
   "name": "python",
   "nbconvert_exporter": "python",
   "pygments_lexer": "ipython3",
   "version": "3.9.12"
  },
  "orig_nbformat": 4
 },
 "nbformat": 4,
 "nbformat_minor": 2
}
