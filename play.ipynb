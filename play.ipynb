{
 "cells": [
  {
   "cell_type": "code",
   "execution_count": 1,
   "metadata": {},
   "outputs": [],
   "source": [
    "import numpy as np\n",
    "import matplotlib.pyplot as plt\n",
    "import numpy_financial as npf\n",
    "import pandas as pd\n",
    "from datetime import datetime as dt\n",
    "import warnings\n",
    "warnings.filterwarnings('ignore')\n",
    "import math\n",
    "from dateutil.relativedelta import relativedelta"
   ]
  },
  {
   "cell_type": "code",
   "execution_count": null,
   "metadata": {},
   "outputs": [],
   "source": [
    "class Position:\n",
    "    def __init__(self, instrument_name, current_date, current_value, type):\n",
    "        self.instrument_name = instrument_name\n",
    "        self.entry_date = current_date\n",
    "        self.pnl = 0\n",
    "        self.current_value = current_value\n",
    "        self.entry_value = current_value\n",
    "        self.type = type\n",
    "        self.exit_value = self.current_value\n",
    "        self.tax_liability = 0\n",
    "    \n",
    "    def update_params(self,instrument_current_value,current_date):\n",
    "        self.current_value = instrument_current_value\n",
    "        self.pnl = self.current_value - self.entry_value\n",
    "        \n",
    "        #Computing tax Component\n",
    "        holding_period_years = relativedelta(current_date,self.entry_date).years\n",
    "        if type == 'equity':\n",
    "            if holding_period_years >=1: #Long Term\n",
    "                self.tax_liability = self.pnl * .1\n",
    "            else: #Short Term\n",
    "                self.tax_liability = self.pnl * .15\n",
    "        elif type == 'debt':\n",
    "            if holding_period_years >=3: #long Term\n",
    "                self.tax_liability = self.pnl * .2\n",
    "            else: #short term\n",
    "                self.tax_liability = self.pnl * .3\n",
    "        self.exit_value = self.current_value - self.tax_liability\n",
    "        \n",
    "\n",
    "            \n",
    "        \n",
    "\n",
    "\n"
   ]
  },
  {
   "cell_type": "code",
   "execution_count": 9,
   "metadata": {},
   "outputs": [
    {
     "data": {
      "text/plain": [
       "1"
      ]
     },
     "execution_count": 9,
     "metadata": {},
     "output_type": "execute_result"
    }
   ],
   "source": [
    "relativedelta(dt(2022,3,4),dt(2020,4,4)).years"
   ]
  },
  {
   "cell_type": "code",
   "execution_count": null,
   "metadata": {},
   "outputs": [],
   "source": []
  }
 ],
 "metadata": {
  "interpreter": {
   "hash": "73601e6817793ffeb38c6f308fcb2845e43bc38d38ec318ab5bd060d656de52c"
  },
  "kernelspec": {
   "display_name": "Python 3.9.12 ('base')",
   "language": "python",
   "name": "python3"
  },
  "language_info": {
   "codemirror_mode": {
    "name": "ipython",
    "version": 3
   },
   "file_extension": ".py",
   "mimetype": "text/x-python",
   "name": "python",
   "nbconvert_exporter": "python",
   "pygments_lexer": "ipython3",
   "version": "3.9.12"
  },
  "orig_nbformat": 4
 },
 "nbformat": 4,
 "nbformat_minor": 2
}
