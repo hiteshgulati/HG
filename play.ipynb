{
 "cells": [
  {
   "cell_type": "code",
   "execution_count": 1,
   "metadata": {},
   "outputs": [],
   "source": [
    "import numpy as np\n",
    "import matplotlib.pyplot as plt\n",
    "import numpy_financial as npf\n",
    "import pandas as pd\n",
    "from datetime import datetime as dt\n",
    "import warnings\n",
    "warnings.filterwarnings('ignore')\n",
    "import math\n",
    "from dateutil.relativedelta import relativedelta"
   ]
  },
  {
   "cell_type": "code",
   "execution_count": null,
   "metadata": {},
   "outputs": [],
   "source": [
    "def to_currency (value, multiplier=100, add_currency_symbol=True, currency_symbol = '₹',rounding=0):\n",
    "    negative_sign = \"\"\n",
    "    if value < 0:\n",
    "        negative_sign = \"-\"\n",
    "        value = abs(value)\n",
    "    value = round(value,rounding)\n",
    "    decimal_value = round(value%1,rounding)\n",
    "    value = int(round((value-decimal_value),0))\n",
    "    if decimal_value == 0:\n",
    "        currency_string = \"\" \n",
    "    else:\n",
    "        currency_string = \".\" + str(decimal_value)[2:]\n",
    "    base = 1_000\n",
    "    set = value%base\n",
    "    currency_string = str(int(round(set,0))) + currency_string\n",
    "    if (len(str(set)) < len(str(value))) & (len(str(set)) < len(str(base))-1):\n",
    "        zeros = \"\".join(['0' for _ in range(len(str(base))-1-len(str(set)))])\n",
    "        currency_string = zeros + currency_string\n",
    "        \n",
    "    converted_value = set\n",
    "    if set == value:\n",
    "        if add_currency_symbol:\n",
    "            return currency_symbol + \" \" + negative_sign + currency_string\n",
    "        else: \n",
    "            return negative_sign + currency_string\n",
    "    else:\n",
    "        while converted_value != value:\n",
    "            base = base * multiplier\n",
    "            set = int(round((value%base - converted_value)/base * multiplier,0))\n",
    "            currency_string = str(int(set)) + \",\" + currency_string\n",
    "            if (len(str(int(round(set*base/multiplier,0)))) < len(str(value))) & (len(str(set)) < len(str(multiplier))-1):\n",
    "                zeros = \"\".join(['0' for _ in range(len(str(multiplier))-1-len(str(set)))])\n",
    "                currency_string = zeros + currency_string\n",
    "            converted_value = int(round(converted_value + (set*base/multiplier),0))\n",
    "\n",
    "    if add_currency_symbol:\n",
    "        return currency_symbol + \" \" + negative_sign + currency_string\n",
    "    else: \n",
    "        return negative_sign + currency_string\n",
    "\n",
    "to_currency(-78361.78264643789, multiplier=100,rounding=0, add_currency_symbol=True)"
   ]
  },
  {
   "cell_type": "code",
   "execution_count": 12,
   "metadata": {},
   "outputs": [],
   "source": [
    "class Position:\n",
    "    def __init__(self, instrument_name, current_date, current_value, type):\n",
    "        self.instrument_name = instrument_name\n",
    "        self.entry_date = current_date\n",
    "        self.pnl = 0\n",
    "        self.current_value = current_value\n",
    "        self.entry_value = current_value\n",
    "        self.type = type\n",
    "        self.exit_value = self.current_value\n",
    "        self.tax_liability = 0\n",
    "    \n",
    "    def __repr__ (self):\n",
    "        return f'''{self.instrument_name} @ {self.current_value}, exit @ {self.exit_value}, bought @ {self.entry_value}'''\n",
    "    def __str__ (self):\n",
    "        return f'''{self.instrument_name} @ {self.current_value}, exit @ {self.exit_value}, bought @ {self.entry_value}'''\n",
    "    \n",
    "    \n",
    "    def update_params(self,instrument_current_value,current_date):\n",
    "        self.current_value = instrument_current_value\n",
    "        self.pnl = self.current_value - self.entry_value\n",
    "        \n",
    "        #Computing tax Component\n",
    "        holding_period_years = relativedelta(current_date,self.entry_date).years\n",
    "        if type == 'equity':\n",
    "            if holding_period_years >=1: #Long Term\n",
    "                self.tax_liability = self.pnl * .1\n",
    "            else: #Short Term\n",
    "                self.tax_liability = self.pnl * .15\n",
    "        elif type == 'debt':\n",
    "            if holding_period_years >=3: #long Term\n",
    "                self.tax_liability = self.pnl * .2\n",
    "            else: #short term\n",
    "                self.tax_liability = self.pnl * .3\n",
    "        self.exit_value = self.current_value - self.tax_liability\n",
    "\n",
    "\n",
    "            \n",
    "        \n",
    "\n",
    "\n"
   ]
  },
  {
   "cell_type": "code",
   "execution_count": 13,
   "metadata": {},
   "outputs": [
    {
     "data": {
      "text/plain": [
       "nifty @ 1000, exit @ 1000, bought @ 1000"
      ]
     },
     "execution_count": 13,
     "metadata": {},
     "output_type": "execute_result"
    }
   ],
   "source": [
    "p = Position('nifty',dt(2015,2,2), 1000,'equity')\n",
    "p"
   ]
  },
  {
   "cell_type": "code",
   "execution_count": null,
   "metadata": {},
   "outputs": [],
   "source": []
  }
 ],
 "metadata": {
  "kernelspec": {
   "display_name": "Python 3.10.2 64-bit",
   "language": "python",
   "name": "python3"
  },
  "language_info": {
   "codemirror_mode": {
    "name": "ipython",
    "version": 3
   },
   "file_extension": ".py",
   "mimetype": "text/x-python",
   "name": "python",
   "nbconvert_exporter": "python",
   "pygments_lexer": "ipython3",
   "version": "3.10.2"
  },
  "orig_nbformat": 4,
  "vscode": {
   "interpreter": {
    "hash": "aee8b7b246df8f9039afb4144a1f6fd8d2ca17a180786b69acc140d282b71a49"
   }
  }
 },
 "nbformat": 4,
 "nbformat_minor": 2
}
