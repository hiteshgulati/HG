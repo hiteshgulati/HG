{
 "cells": [
  {
   "cell_type": "code",
   "execution_count": 1,
   "metadata": {},
   "outputs": [],
   "source": [
    "import pandas as pd\n",
    "from bs4 import BeautifulSoup\n",
    "import urllib.request as urllib2\n",
    "from io import StringIO\n",
    "import datetime as dt\n",
    "import hgutils\n",
    "import time\n",
    "hgt = hgutils.timer(\"AMFI Data Scraper\")\n",
    "import threading"
   ]
  },
  {
   "cell_type": "code",
   "execution_count": 2,
   "metadata": {},
   "outputs": [],
   "source": [
    "def date_range(start_date,end_date,frequency=1):\n",
    "    current_date = start_date\n",
    "    yield current_date\n",
    "    current_date = current_date + dt.timedelta(days=frequency)\n",
    "    while current_date<=end_date:\n",
    "        yield current_date\n",
    "        current_date = current_date + dt.timedelta(days=frequency)\n",
    "\n",
    "def generate_amfi_url (date,base_url = 'https://portal.amfiindia.com/DownloadNAVHistoryReport_Po.aspx?frmdt='):\n",
    "    date_str = date.strftime(\"%d-%b-%Y\")\n",
    "    return base_url+date_str\n",
    "\n",
    "def get_day_df (url, break_minutes = 5):\n",
    "    page = urllib2.urlopen(url)\n",
    "    soup = BeautifulSoup(page.read())\n",
    "    df = pd.read_csv(StringIO(soup.get_text()),sep=';')\n",
    "    df.dropna(subset='Net Asset Value',inplace=True)\n",
    "    cols_to_keep = ['Scheme Code','Scheme Name',\n",
    "        'Net Asset Value','ISIN Div Payout/ISIN Growth',\n",
    "        'ISIN Div Reinvestment','Date']\n",
    "    df = df[cols_to_keep]\n",
    "    return df\n",
    "\n",
    "def get_day_df_recursive (url, break_minutes = 5):\n",
    "    try:\n",
    "        page = urllib2.urlopen(url)\n",
    "        soup = BeautifulSoup(page.read())\n",
    "        df = pd.read_csv(StringIO(soup.get_text()),sep=';')\n",
    "        df.dropna(subset='Net Asset Value',inplace=True)\n",
    "    except:\n",
    "        hgt.start(\"Break Time\")\n",
    "        time.sleep(break_minutes*60)\n",
    "        df = get_day_df_recursive(url,break_minutes)\n",
    "        hgt.stop()\n",
    "    return df"
   ]
  },
  {
   "cell_type": "code",
   "execution_count": 3,
   "metadata": {},
   "outputs": [
    {
     "name": "stdout",
     "output_type": "stream",
     "text": [
      "\t\t Year - 2018 - 7.7 milliseconds\n",
      "\t\t Year - 2018 - 8.66 minutes\n",
      "\t\t Year - 2019 - 11.88 minutes\n",
      "\t\t Year - 2020 - 14.41 minutes\n"
     ]
    }
   ],
   "source": [
    "saved_file_name = \"amfi2.csv\"\n",
    "hgt.start('Daddy Timer')\n",
    "start_date = dt.date(2018,1,1)\n",
    "end_date = dt.date(2022,8,23)\n",
    "combo_df = pd.DataFrame()\n",
    "hgt.start(\"Year - \" + start_date.strftime(\"%Y\"))\n",
    "for d in date_range(start_date,end_date):\n",
    "    if (d.day == 1)&(d.month==1):\n",
    "        combo_df.to_csv(saved_file_name)\n",
    "        hgt.stop(print=True,verbose=0)\n",
    "        hgt.start(\"Year - \" + d.strftime(\"%Y\"))\n",
    "    hgt.start(d.strftime(\"%d-%b-%Y\"))\n",
    "    try:\n",
    "        df = get_day_df(generate_amfi_url(d),break_minutes=5)\n",
    "    except:\n",
    "        combo_df.to_csv(saved_file_name)\n",
    "        print(\"Break Time\")\n",
    "        hgt.start(\"Break Time\")\n",
    "        df = get_day_df_recursive(generate_amfi_url(d),break_minutes=5)\n",
    "        hgt.stop(print=True,verbose=0)\n",
    "    combo_df = pd.concat([combo_df,df])\n",
    "    hgt.stop()\n",
    "hgt.stop(print=True,verbose=1)"
   ]
  },
  {
   "cell_type": "code",
   "execution_count": null,
   "metadata": {},
   "outputs": [],
   "source": []
  }
 ],
 "metadata": {
  "kernelspec": {
   "display_name": "Python 3.10.6 64-bit (microsoft store)",
   "language": "python",
   "name": "python3"
  },
  "language_info": {
   "codemirror_mode": {
    "name": "ipython",
    "version": 3
   },
   "file_extension": ".py",
   "mimetype": "text/x-python",
   "name": "python",
   "nbconvert_exporter": "python",
   "pygments_lexer": "ipython3",
   "version": "3.10.6"
  },
  "orig_nbformat": 4,
  "vscode": {
   "interpreter": {
    "hash": "a3937debae2d00624861d4cd6e124644e508be2a8b1aaf605dad9270516484e5"
   }
  }
 },
 "nbformat": 4,
 "nbformat_minor": 2
}
